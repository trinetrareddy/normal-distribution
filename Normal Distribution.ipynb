{
 "cells": [
  {
   "cell_type": "markdown",
   "id": "15910f73-cd05-4f85-a87c-1f86a90679b9",
   "metadata": {},
   "source": [
    "# Normal Distribution"
   ]
  },
  {
   "cell_type": "raw",
   "id": "57238a3c-b6c3-4e75-8fb7-a41df01cdeb0",
   "metadata": {},
   "source": [
    "The Normal Distribution is a probability distribution that is symmetric around its mean value. It is a continuous distribution with two parameters: mean (μ) and standard deviation (σ). The bell-shaped curve of the Normal Distribution shows that most of the data falls near the mean, while the tails show that there is still a chance for data to fall far from the mean."
   ]
  },
  {
   "cell_type": "markdown",
   "id": "a8876989-1efc-413a-9346-25a61d1393e1",
   "metadata": {},
   "source": [
    "# Scipy"
   ]
  },
  {
   "cell_type": "raw",
   "id": "e2f16758-b8d6-4904-91fa-94d6d85ce3a7",
   "metadata": {},
   "source": [
    "Scipy is an open-source library in Python that provides tools for scientific (systematic; methodical.) and technical computing. Scipy has many submodules that provide a wide range of functions for different scientific tasks such as optimization, integration, signal processing, linear algebra, and statistics. One of the submodules in Scipy is the Stats module which offers a collection of functions for statistical operations.\n",
    "\n",
    "scientific* -> rigorous, mathematical, and computational techniques for problem-solving and analysis"
   ]
  },
  {
   "cell_type": "markdown",
   "id": "f91b1869-428a-4564-bdc8-34f8d061652e",
   "metadata": {},
   "source": [
    "# Exploring Normal Distribution Using SciPy"
   ]
  },
  {
   "cell_type": "raw",
   "id": "a4ed9f56-6aa1-4815-9c8f-31a728316ba0",
   "metadata": {},
   "source": [
    "\n",
    "In this notebook, we'll explore some basic properties of the normal distribution using Python libraries like scipy.stats and pandas.\n",
    "\n",
    "1. Generating Random Variates\n",
    "We can generate random samples from a normal distribution with a specified mean and standard deviation using the rvs method from scipy.stats.norm. Let's generate 50 random samples from a normal distribution with a mean of 200 and a standard deviation of 20."
   ]
  },
  {
   "cell_type": "code",
   "execution_count": 18,
   "id": "9182733f-1b26-4502-9de8-50e705fb5745",
   "metadata": {},
   "outputs": [],
   "source": [
    "import pandas as pd\n",
    "from scipy.stats import norm\n",
    "\n",
    "# Generating random samples\n",
    "norm_with_mean_200_std_20 = norm.rvs(200, 20, 50)"
   ]
  },
  {
   "cell_type": "raw",
   "id": "565dd908-38b1-4bea-b3bb-aeda9c6132f2",
   "metadata": {},
   "source": [
    "To visualize these random samples, we can use the pandas library to create a histogram. This will help us see the spread of the data around the mean."
   ]
  },
  {
   "cell_type": "code",
   "execution_count": 19,
   "id": "33594373-9c42-432b-9b1b-4e8c468e49d6",
   "metadata": {},
   "outputs": [
    {
     "data": {
      "text/plain": [
       "array([[<Axes: title={'center': '0'}>]], dtype=object)"
      ]
     },
     "execution_count": 19,
     "metadata": {},
     "output_type": "execute_result"
    },
    {
     "data": {
      "image/png": "[encoded data removed]",
      "text/plain": [
       "<Figure size 640x480 with 1 Axes>"
      ]
     },
     "metadata": {},
     "output_type": "display_data"
    }
   ],
   "source": [
    "# Plotting the histogram\n",
    "pd.DataFrame(norm_with_mean_200_std_20).hist()"
   ]
  },
  {
   "cell_type": "raw",
   "id": "46313f74-3fe0-43d1-8141-310c1a676a78",
   "metadata": {},
   "source": [
    "The Cumulative Distribution Function (CDF) helps us determine the probability that a random variable takes on a value less than or equal to a specific value. For example:\n",
    "\n",
    "Probability that a sample is less than 190:\n",
    "We can use the cdf method to calculate this probability."
   ]
  },
  {
   "cell_type": "code",
   "execution_count": 20,
   "id": "903339e2-29dc-4aa5-b94b-eb7fc1ebf41f",
   "metadata": {},
   "outputs": [
    {
     "data": {
      "text/plain": [
       "0.3085375387259869"
      ]
     },
     "execution_count": 20,
     "metadata": {},
     "output_type": "execute_result"
    }
   ],
   "source": [
    "norm.cdf(190, 200, 20)"
   ]
  },
  {
   "cell_type": "raw",
   "id": "8de80209-d388-418d-a827-eb23ddf26e0c",
   "metadata": {},
   "source": [
    "Probability that a sample is between 190 and 210:\n",
    "To find the probability of a value falling between two points, we subtract the CDF values of these points."
   ]
  },
  {
   "cell_type": "code",
   "execution_count": 21,
   "id": "76f4ecdb-ee01-4937-a2b9-a4044bfc742d",
   "metadata": {},
   "outputs": [
    {
     "data": {
      "text/plain": [
       "0.38292492254802624"
      ]
     },
     "execution_count": 21,
     "metadata": {},
     "output_type": "execute_result"
    }
   ],
   "source": [
    "norm.cdf(210, 200, 20) - norm.cdf(190, 200, 20)\n"
   ]
  },
  {
   "cell_type": "raw",
   "id": "8aa6e6ec-34c7-453e-b81a-baf4868788c8",
   "metadata": {},
   "source": [
    "Calculating Percent Point Function (PPF)\n",
    "\n",
    "The Percent Point Function (PPF) is the inverse of the CDF. It tells us the value below which a certain percentage of the data falls.\n",
    "\n",
    "For example, the 90th percentile:\n",
    "This means we want to find the value below which 90% of the samples lie."
   ]
  },
  {
   "cell_type": "code",
   "execution_count": 22,
   "id": "bf19dd57-e8e2-4fe2-b6d8-e02497392e08",
   "metadata": {},
   "outputs": [
    {
     "data": {
      "text/plain": [
       "225.631031310892"
      ]
     },
     "execution_count": 22,
     "metadata": {},
     "output_type": "execute_result"
    }
   ],
   "source": [
    "norm.ppf(0.9, 200, 20)"
   ]
  },
  {
   "cell_type": "raw",
   "id": "d12e894c-0c5e-4c2f-bae2-c0bbab2d7f1c",
   "metadata": {},
   "source": [
    "Applying PPF for Comparative Analysis\n",
    "If the mean and standard deviation of a distribution change, we can use the PPF to compare these distributions at specific percentiles. This is useful for determining how well a model or dataset is performing. For instance, in financial risk management, an increasing PPF value at a lower percentile (e.g., 10%) might indicate improved performance.\n",
    "\n",
    "By analyzing changes in PPF values across different distributions, we can make more informed conclusions than by merely comparing visual plots of distributions."
   ]
  },
  {
   "cell_type": "markdown",
   "id": "53710d26-c50d-4d6e-b583-8994e739d261",
   "metadata": {},
   "source": [
    "# Hypothesis Testing with Scipy Stats Norm: An Example"
   ]
  },
  {
   "cell_type": "raw",
   "id": "cc7536e7-16ac-463b-8797-5a7ddd4ef7d9",
   "metadata": {},
   "source": [
    "In this section, we will explore an example problem of hypothesis testing using Scipy Stats Norm module. Let’s say we have a sample of 50 students and we want to test if the mean height of the students is 170 cm or not.\n",
    "\n",
    "To solve this problem using Scipy Stats Norm, we need to follow these steps:\n",
    "\n",
    "1. Set up the null and alternative hypotheses:\n",
    "\n",
    "Null Hypothesis (H0): The mean height of the students is 170 cm.\n",
    "\n",
    "Alternative Hypothesis (Ha): The mean height of the students is not 170 cm.\n",
    "\n",
    "2. Determine the significance level (alpha) for the test. Let’s choose alpha = 0.05.\n",
    "\n",
    "3. Calculate the test statistic and p-value using Scipy Stats Norm module."
   ]
  },
  {
   "cell_type": "code",
   "execution_count": 24,
   "id": "856463aa-5923-42b0-a8b1-43ff553ac4ba",
   "metadata": {},
   "outputs": [
    {
     "name": "stdout",
     "output_type": "stream",
     "text": [
      "Z-score: 2.8284271247461903\n",
      "P-value: 0.0046777349810472576\n"
     ]
    }
   ],
   "source": [
    "from scipy.stats import norm\n",
    "    \n",
    "sample_size = 50\n",
    "sample_mean = 172\n",
    "population_mean = 170\n",
    "population_std_dev = 5\n",
    "\n",
    "z_score = (sample_mean - population_mean) / (population_std_dev / (sample_size ** 0.5))\n",
    "p_value = norm.sf(abs(z_score)) * 2\n",
    "\n",
    "print(\"Z-score:\", z_score)\n",
    "print(\"P-value:\", p_value)"
   ]
  },
  {
   "cell_type": "raw",
   "id": "b03cc2d5-507a-4c7e-a6ae-2d3300124a2f",
   "metadata": {},
   "source": [
    "Compare the p-value with alpha and make a decision.\n",
    "\n",
    "Since p-value (0.021) < alpha (0.05), we reject the null hypothesis and conclude that the mean height of the students is not 170 cm. By following these steps, we can use Scipy Stats Norm module to conduct hypothesis testing and make informed decisions based on statistical analysis."
   ]
  },
  {
   "cell_type": "markdown",
   "id": "d928a61b-f7e3-4304-b7ee-6a41f5aab812",
   "metadata": {},
   "source": [
    "#### Reference :\n",
    "\n",
    "1. https://pieriantraining.com/working-with-scipy-stats-norm-a-guide/#:~:text=In%20summary%2C%20Scipy%20Stats%20Norm,and%20returns%20its%20percentile%20rank.\n",
    "\n",
    "2. https://docs.scipy.org/doc/scipy/reference/generated/scipy.stats.norm.html"
   ]
  },
  {
   "cell_type": "raw",
   "id": "c03db169-164c-4b7c-8dcc-22c75f5beba8",
   "metadata": {},
   "source": [
    "A statistical hypothesis test is a method of statistical inference used to decide whether the data sufficiently supports a particular hypothesis. A statistical hypothesis test typically involves a calculation of a test statistic. Then a decision is made, either by comparing the test statistic to a critical value or equivalently by evaluating a p-value computed from the test statistic"
   ]
  },
  {
   "cell_type": "markdown",
   "id": "8b90cbd8-05f8-4f4f-8ec5-926a2056dfcf",
   "metadata": {},
   "source": [
    "# Applications in of normal distribution in machine learning"
   ]
  },
  {
   "cell_type": "code",
   "execution_count": null,
   "id": "a08928db-8b34-4b01-bef0-592bff27dda3",
   "metadata": {},
   "outputs": [],
   "source": []
  },
  {
   "cell_type": "raw",
   "id": "4d2143e5-fd5f-4854-91e1-2f55984f7aa5",
   "metadata": {},
   "source": [
    "Example 1: Z-Score Normalization\n",
    "Scenario: You have a dataset with Age and Income, and you want to apply Z-score normalization before training a linear regression model."
   ]
  },
  {
   "cell_type": "code",
   "execution_count": 25,
   "id": "da7667c5-e0ad-4173-afd0-a766d5302816",
   "metadata": {},
   "outputs": [
    {
     "name": "stdout",
     "output_type": "stream",
     "text": [
      "Coefficients without normalization: [1.50499962e-04 3.00999925e-01]\n",
      "Coefficients with normalization: [2128.39141137 2128.39141137]\n"
     ]
    }
   ],
   "source": [
    "import pandas as pd\n",
    "from sklearn.linear_model import LinearRegression\n",
    "from sklearn.preprocessing import StandardScaler\n",
    "\n",
    "# Sample data\n",
    "data = {'Age': [25, 30, 35, 40, 45], 'Income': [50000, 60000, 70000, 80000, 90000]}\n",
    "df = pd.DataFrame(data)\n",
    "\n",
    "# Target variable (let's assume it's a simple linear function)\n",
    "df['Target'] = 2 * df['Age'] + 0.3 * df['Income']\n",
    "\n",
    "# Splitting data into features and target\n",
    "X = df[['Age', 'Income']]\n",
    "y = df['Target']\n",
    "\n",
    "# Without Normalization\n",
    "model = LinearRegression()\n",
    "model.fit(X, y)\n",
    "print(\"Coefficients without normalization:\", model.coef_)\n",
    "\n",
    "# With Z-Score Normalization\n",
    "scaler = StandardScaler()\n",
    "X_scaled = scaler.fit_transform(X)\n",
    "model.fit(X_scaled, y)\n",
    "print(\"Coefficients with normalization:\", model.coef_)\n"
   ]
  },
  {
   "cell_type": "raw",
   "id": "49b6b1ce-8ffc-4a85-b85b-d6f1b21bec5f",
   "metadata": {},
   "source": [
    "What happens if normalization is not done?\n",
    "\n",
    "The model coefficients will be biased toward the feature with a larger scale (Income in this case), as linear regression is sensitive to the magnitude of feature values.\n",
    "What happens if normalization is done?\n",
    "\n",
    "The coefficients are now on a comparable scale, reflecting the true relationship between features and the target. The model converges faster, and the interpretation of coefficients becomes clearer."
   ]
  },
  {
   "cell_type": "raw",
   "id": "947b1e4c-7415-4ff5-b596-f048717755b2",
   "metadata": {},
   "source": [
    "Summary of Impact:\n",
    "Without Normalization: The Income feature's large scale (compared to Age) leads to a very small coefficient (0.225) despite it being very influential.\n",
    "With Normalization: The coefficients (\\beta_1 and \\beta_2) become comparable and represent the true influence of each feature on the target variable.\n",
    "Normalization ensures that all features contribute equally, and it prevents the model from being biased toward features with larger scales."
   ]
  },
  {
   "cell_type": "code",
   "execution_count": null,
   "id": "f52ade9b-b014-4925-9fb0-ebe46dc6c0ae",
   "metadata": {},
   "outputs": [],
   "source": []
  },
  {
   "cell_type": "raw",
   "id": "3942f500-884a-4a6b-8444-7a7f330c6ad1",
   "metadata": {},
   "source": [
    "Example 2: Outlier Detection Using Z-Score\n",
    "Scenario: Detect outliers in student grades.\n",
    "\n",
    "Dataset and Implementation:"
   ]
  },
  {
   "cell_type": "code",
   "execution_count": 27,
   "id": "1308129a-f4b8-4ab1-8b32-4cb1f9aa03a7",
   "metadata": {},
   "outputs": [
    {
     "name": "stdout",
     "output_type": "stream",
     "text": [
      "Outliers: [30]\n"
     ]
    }
   ],
   "source": [
    "import numpy as np\n",
    "\n",
    "# Sample data\n",
    "grades = np.array([88, 90, 95, 85, 100, 30])\n",
    "\n",
    "# Without Z-Score Normalization\n",
    "mean_grade = np.mean(grades)\n",
    "std_grade = np.std(grades)\n",
    "\n",
    "# Detect outliers (typically if |Z| > 2)\n",
    "z_scores = (grades - mean_grade) / std_grade\n",
    "outliers = grades[np.abs(z_scores) > 2]\n",
    "print(\"Outliers:\", outliers)\n"
   ]
  },
  {
   "cell_type": "raw",
   "id": "db0e0dee-9d35-496a-8255-6d7671c2e9f8",
   "metadata": {},
   "source": [
    "What happens if Z-score normalization is not done?\n",
    "\n",
    "If Z-score normalization is not applied, detecting outliers might be inaccurate, especially if the data is not normally distributed. The threshold for identifying outliers becomes arbitrary.\n",
    "What happens if Z-score normalization is done?\n",
    "\n",
    "Applying Z-score allows us to systematically identify outliers by considering the distribution of the data. This method is robust and consistent, especially when data follows a normal distribution.\n"
   ]
  },
  {
   "cell_type": "code",
   "execution_count": null,
   "id": "ceb94676-a26e-4430-95c5-38148b1c13bf",
   "metadata": {},
   "outputs": [],
   "source": []
  },
  {
   "cell_type": "code",
   "execution_count": null,
   "id": "98d8e48b-a3b3-4e51-acc0-8dcb31a741ba",
   "metadata": {},
   "outputs": [],
   "source": [
    "#general "
   ]
  }
 ],
 "metadata": {
  "kernelspec": {
   "display_name": "Python 3 (ipykernel)",
   "language": "python",
   "name": "python3"
  },
  "language_info": {
   "codemirror_mode": {
    "name": "ipython",
    "version": 3
   },
   "file_extension": ".py",
   "mimetype": "text/x-python",
   "name": "python",
   "nbconvert_exporter": "python",
   "pygments_lexer": "ipython3",
   "version": "3.9.6"
  }
 },
 "nbformat": 4,
 "nbformat_minor": 5
}
